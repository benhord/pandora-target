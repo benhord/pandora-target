{
 "cells": [
  {
   "cell_type": "code",
   "execution_count": null,
   "id": "0b5d1312",
   "metadata": {},
   "outputs": [],
   "source": [
    "from pandora_target.pandoratarget import TargetList"
   ]
  },
  {
   "cell_type": "code",
   "execution_count": null,
   "id": "e4f98b39",
   "metadata": {},
   "outputs": [],
   "source": [
    "targets = TargetList()\n",
    "print(targets.top_pls)"
   ]
  },
  {
   "cell_type": "code",
   "execution_count": null,
   "id": "00aed269",
   "metadata": {},
   "outputs": [],
   "source": [
    "targets.show_params()"
   ]
  },
  {
   "cell_type": "code",
   "execution_count": null,
   "id": "2eaf338f",
   "metadata": {},
   "outputs": [],
   "source": [
    "targets.update(jmag_max=12.5, hmag_max=12)\n",
    "targets.show_params()"
   ]
  },
  {
   "cell_type": "code",
   "execution_count": null,
   "id": "ce9dbc24",
   "metadata": {},
   "outputs": [],
   "source": [
    "targets.rerun()\n",
    "print(targets.top_pls)"
   ]
  },
  {
   "cell_type": "code",
   "execution_count": null,
   "id": "d6f2faf1",
   "metadata": {},
   "outputs": [],
   "source": [
    "targets.update(jmag_max=11.5, hmag_max=11, rerun=True)\n",
    "print(targets.top_pls)"
   ]
  },
  {
   "cell_type": "code",
   "execution_count": null,
   "id": "24335b7f",
   "metadata": {},
   "outputs": [],
   "source": [
    "print(targets.shortlist)"
   ]
  },
  {
   "cell_type": "code",
   "execution_count": null,
   "id": "f41740da",
   "metadata": {
    "scrolled": true
   },
   "outputs": [],
   "source": [
    "targets.add('TOI-700 d')\n",
    "print(targets.shortlist)"
   ]
  },
  {
   "cell_type": "code",
   "execution_count": null,
   "id": "926fd981",
   "metadata": {
    "scrolled": true
   },
   "outputs": [],
   "source": [
    "targets.add(['TRAPPIST-1 b', 'TRAPPIST-1 c', 'TRAPPIST-1 d', 'TRAPPIST-1 e', 'TRAPPIST-1 f', 'TRAPPIST-1 g', \n",
    "             'TRAPPIST-1 h'])\n",
    "print(targets.shortlist)"
   ]
  },
  {
   "cell_type": "code",
   "execution_count": null,
   "id": "b664de1b",
   "metadata": {
    "scrolled": true
   },
   "outputs": [],
   "source": [
    "targets.remove('HIP 65 A b')\n",
    "print(targets.shortlist)"
   ]
  },
  {
   "cell_type": "code",
   "execution_count": null,
   "id": "df256f9f",
   "metadata": {},
   "outputs": [],
   "source": [
    "print(targets.removed_targs)"
   ]
  },
  {
   "cell_type": "code",
   "execution_count": null,
   "id": "c42c526a",
   "metadata": {},
   "outputs": [],
   "source": [
    "targets.add('HIP 65 A b')\n",
    "print(targets.shortlist)"
   ]
  },
  {
   "cell_type": "code",
   "execution_count": null,
   "id": "cca35145",
   "metadata": {},
   "outputs": [],
   "source": [
    "print(targets.removed_targs)"
   ]
  },
  {
   "cell_type": "code",
   "execution_count": null,
   "id": "017cd402",
   "metadata": {},
   "outputs": [],
   "source": [
    "targets.extend(3)\n",
    "print(targets.shortlist)"
   ]
  },
  {
   "cell_type": "code",
   "execution_count": null,
   "id": "0c91ea71",
   "metadata": {},
   "outputs": [],
   "source": [
    "targets.shortlist.to_csv('pandora_targets.csv', index=False)"
   ]
  }
 ],
 "metadata": {
  "kernelspec": {
   "display_name": "Python 3 (ipykernel)",
   "language": "python",
   "name": "python3"
  },
  "language_info": {
   "codemirror_mode": {
    "name": "ipython",
    "version": 3
   },
   "file_extension": ".py",
   "mimetype": "text/x-python",
   "name": "python",
   "nbconvert_exporter": "python",
   "pygments_lexer": "ipython3",
   "version": "3.10.4"
  }
 },
 "nbformat": 4,
 "nbformat_minor": 5
}
